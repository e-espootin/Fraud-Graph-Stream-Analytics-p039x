{
 "cells": [
  {
   "cell_type": "code",
   "execution_count": 4,
   "id": "09570178-aa06-468f-9504-5b67c669d3b8",
   "metadata": {},
   "outputs": [
    {
     "name": "stdout",
     "output_type": "stream",
     "text": [
      "+-----+-----+\n",
      "| word|count|\n",
      "+-----+-----+\n",
      "|   ss|    1|\n",
      "|  sad|    1|\n",
      "|  gfg|    1|\n",
      "|  ewr|    1|\n",
      "|fdsfg|    1|\n",
      "+-----+-----+\n",
      "\n",
      "result...DataFrame[word: string, count: bigint]\n",
      "Total words:  5\n"
     ]
    }
   ],
   "source": [
    "import pyspark.sql.functions as F\n",
    "from pyspark.sql import SparkSession\n",
    "\n",
    "spark = SparkSession.builder.appName(\n",
    "    \"Ch03 - Analyzing the vocabulary of Pride and Prejudice.\"\n",
    ").getOrCreate()\n",
    "\n",
    "book = spark.read.text(\"/home/jovyan/work/spark_apps/dev/untitled.txt\")\n",
    "\n",
    "\n",
    "lines = book.select(F.split(F.col(\"value\"), \" \").alias(\"line\"))\n",
    "\n",
    "words = lines.select(F.explode(F.col(\"line\")).alias(\"word\"))\n",
    "\n",
    "words_lower = words.select(F.lower(F.col(\"word\")).alias(\"word_lower\"))\n",
    "words_clean = words_lower.select(\n",
    "    F.regexp_extract(F.col(\"word_lower\"), \"[a-z]*\", 0).alias(\"word\")\n",
    ")\n",
    "words_nonull = words_clean.where(F.col(\"word\") != \"\")\n",
    "\n",
    "results = words_nonull.groupby(F.col(\"word\")).count()\n",
    "\n",
    "results.orderBy(F.col(\"count\").desc()).show(10)\n",
    "\n",
    "print(f\"result...{results}\")\n",
    "print(\"Total words: \", results.count())\n",
    "\n",
    "# results.coalesce(1).write.csv(\n",
    "#     \"/opt/spark/data/results/chapter03/simple_count.csv\")\n"
   ]
  },
  {
   "cell_type": "code",
   "execution_count": null,
   "id": "e541f267-1294-4179-82b0-d39662ecfc10",
   "metadata": {},
   "outputs": [],
   "source": []
  }
 ],
 "metadata": {
  "kernelspec": {
   "display_name": "Python 3 (ipykernel)",
   "language": "python",
   "name": "python3"
  },
  "language_info": {
   "codemirror_mode": {
    "name": "ipython",
    "version": 3
   },
   "file_extension": ".py",
   "mimetype": "text/x-python",
   "name": "python",
   "nbconvert_exporter": "python",
   "pygments_lexer": "ipython3",
   "version": "3.12.8"
  }
 },
 "nbformat": 4,
 "nbformat_minor": 5
}
